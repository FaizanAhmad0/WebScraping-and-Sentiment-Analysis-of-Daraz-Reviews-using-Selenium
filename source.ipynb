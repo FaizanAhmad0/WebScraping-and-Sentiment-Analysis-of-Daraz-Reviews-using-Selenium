{
 "cells": [
  {
   "cell_type": "code",
   "execution_count": 1,
   "metadata": {},
   "outputs": [],
   "source": [
    "#import libraries\n",
    "import time\n",
    "import pandas as pd\n",
    "from selenium import webdriver\n",
    "from selenium.webdriver.edge.options import Options\n",
    "from selenium.webdriver.common.keys import Keys\n",
    "from webdriver_manager.chrome import ChromeDriverManager\n",
    "from selenium.webdriver.common.by import By\n",
    "from selenium.common.exceptions import NoSuchElementException\n",
    "from selenium.webdriver.support.select import Select\n",
    "from selenium.webdriver.remote.webelement import WebElement"
   ]
  },
  {
   "attachments": {},
   "cell_type": "markdown",
   "metadata": {},
   "source": [
    "Scrape 3 pages of reviews for a single product listing using product URL.<br /> Note: Product must have more than 1 review page. The code must be generic and should work for every product listing URL, with proper checks in place."
   ]
  },
  {
   "cell_type": "code",
   "execution_count": 9,
   "metadata": {},
   "outputs": [
    {
     "name": "stderr",
     "output_type": "stream",
     "text": [
      "C:\\Users\\Faizan\\AppData\\Local\\Temp\\ipykernel_6208\\1000469243.py:5: DeprecationWarning: executable_path has been deprecated, please pass in a Service object\n",
      "  driver = webdriver.Chrome(executable_path=r\"C:\\Users\\Faizan\\OneDrive - FAST National University\\Documents\\intro_to_datascience_notebooks\\chromedriver.exe\")\n"
     ]
    }
   ],
   "source": [
    "url='https://www.daraz.pk/products/vivo-original-handsfree-handsfree-headphones-handsfree-handfree-earphones-35mm-with-mic-for-pubg-real-gamming-deep-bass-sound-online-steaming-watching-movies-online-classes-cute-handfree-for-girls-android-mobile-i244985035-s1463442235.html?spm=a2a0e.home.just4u.9.4ce84937rglSN6&scm=1007.28811.295250.0&pvid=1e9a1afc-51be-4f59-8a02-050b6ae4312c&clickTrackInfo=pvid%3A1e9a1afc-51be-4f59-8a02-050b6ae4312c%3Bchannel_id%3A0000%3Bmt%3Ahot%3Bitem_id%3A244985035%3B'\n",
    "options = Options()\n",
    "options.add_argument(\"--headless\")\n",
    "#driver = webdriver.Chrome(ChromeDriverManager().install(), options=options)\n",
    "driver = webdriver.Chrome(executable_path=r\"C:\\Users\\Faizan\\OneDrive - FAST National University\\Documents\\intro_to_datascience_notebooks\\chromedriver.exe\")\n",
    "driver.get(url)\n",
    "#url = 'input url here'"
   ]
  },
  {
   "cell_type": "code",
   "execution_count": 10,
   "metadata": {},
   "outputs": [],
   "source": [
    "a=[]\n",
    "b=[]\n",
    "#name /html[1]/body[1]/div[4]/div[1]/div[9]/div[1]/div[2]/div[1]/div[1]/div[1]/div[3]/div[1]/div[1]/div[2]/span[1]\n",
    "#comment=0\n",
    "cmt=[]\n",
    "rvw=[]\n",
    "ele_clk=\"\"\n",
    "for i in range(1,4):\n",
    "    for i in range(1,2):\n",
    "        time.sleep(2)\n",
    "        rvw=driver.find_elements(By.CLASS_NAME,'middle')\n",
    "        for k in rvw:\n",
    "            b.append(k.text)\n",
    "            time.sleep(2)\n",
    "#         comment.append(cmt)\n",
    "#         for x in a:\n",
    "#             if x[-17:]=='Verified Purchase':\n",
    "#                 rvw.append(x[0:-18])\n",
    "        time.sleep(1)\n",
    "        cmt=driver.find_elements(By.CLASS_NAME,'content')\n",
    "        for j in cmt:\n",
    "            a.append(j.text)\n",
    "            time.sleep(1)\n",
    "                \n",
    "       \n",
    "    time.sleep(2)\n",
    "    # cmt.append(cmt)\n",
    "    driver.find_element(By.XPATH,'/html/body/div[4]/div/div[9]/div[1]/div[2]/div/div/div/div[3]/div[2]/div/div/button[2]').click()\n",
    "   # Webdriver.Actionchain.move_to_element(\"/html[1]/body[1]/div[4]/div[1]/div[9]/div[1]/div[2]/div[1]/div[1]/div[1]/div[3]/div[2]/div[1]/button[2]/i[1]\").click().perform()\n",
    "  #  time.sleep(3)\n",
    "   # WebElement elementOpen = driver.findElement(By.xpath(\"/html[1]/body[1]/div[4]/div[1]/div[9]/div[1]/div[2]/div[1]/div[1]/div[1]/div[3]/div[2]/div[1]/button[2]/i[1]\")); \n",
    "    #elementOpen.click();\n",
    "      \n",
    "#cmt\n",
    "\n",
    "\n",
    "# rvw\n",
    "driver.close()"
   ]
  },
  {
   "cell_type": "code",
   "execution_count": 11,
   "metadata": {},
   "outputs": [
    {
     "name": "stdout",
     "output_type": "stream",
     "text": [
      "['by Tarique I.Verified Purchase', 'by Ubaid S.Verified Purchase', 'by Usama B.Verified Purchase', 'by kais B.Verified Purchase', 'by A***iVerified Purchase', 'by Mubbashir I.Verified Purchase', 'by anwaar M.Verified Purchase', 'by SamjeeVerified Purchase', 'by kais B.Verified Purchase', 'by 0***3Verified Purchase', 'by Mubbashir I.Verified Purchase', 'by anwaar M.Verified Purchase', 'by SamjeeVerified Purchase', 'by kais B.Verified Purchase', 'by 0***3Verified Purchase']\n"
     ]
    },
    {
     "data": {
      "text/plain": [
       "['4.7/5\\n186 Ratings\\n165\\n3\\n6\\n1\\n11',\n",
       " 'Today I got the order. The product was as shown in the advertisement. Swift, and fast delivery. Good quality. I am much satisfied with the seller and of course Daraz.',\n",
       " 'I received my parcel on time. The service is so fast. Must recomment. Will shop again... \\nThankx daraz app',\n",
       " 'koy bhe shaks in say handfree na ly many 3 handfree order ki thi likin mujhy aik receive hue wo b khrab kuch to Khuda ka khoof kry asy logo k 300 400 say ap ameer ni hujye gy kbr k azam say bchy many refund k lea daraz pay application day di ha or help line py b complain kerrha hu',\n",
       " 'I highly recommended for this product is very good quality sound quality is good\\nthanks for Daraz and thanks to Brain Zone Gadget',\n",
       " 'faradiye hain dhoka Kiya hai vivo ka likha kar viva bekar si product bejhi hai usi time  inbox main rabta Kiya koi jawab nai diya',\n",
       " '4.7/5\\n186 Ratings\\n165\\n3\\n6\\n1\\n11',\n",
       " 'i got my handfree in 2 days , its voice is awesome                                               ',\n",
       " 'recieved handsfree as shown in pics. good seller. the sound and quality of handsfree is so good.',\n",
       " 'Bohat achi handfree ha thanks draz bohat e km price h awaz b  bhhht achi ha ',\n",
       " 'Bht zabrdast mena 2nd time order kia ha bht achi quality ka handsfree hai or price b bht munasib ha sound quality b achi ha \\nThanks to Daraz Team ',\n",
       " \"I've got hand-free parsel received, it's great,quality is really original and so....😍good!I appreciate this seller and I will ordered again soon🥰🥰🥰\",\n",
       " '4.7/5\\n186 Ratings\\n165\\n3\\n6\\n1\\n11',\n",
       " 'i got my handfree in 2 days , its voice is awesome                                               ',\n",
       " 'recieved handsfree as shown in pics. good seller. the sound and quality of handsfree is so good.',\n",
       " 'Bohat achi handfree ha thanks draz bohat e km price h awaz b  bhhht achi ha ',\n",
       " 'Bht zabrdast mena 2nd time order kia ha bht achi quality ka handsfree hai or price b bht munasib ha sound quality b achi ha \\nThanks to Daraz Team ',\n",
       " \"I've got hand-free parsel received, it's great,quality is really original and so....😍good!I appreciate this seller and I will ordered again soon🥰🥰🥰\"]"
      ]
     },
     "execution_count": 11,
     "metadata": {},
     "output_type": "execute_result"
    }
   ],
   "source": [
    "print(b)\n",
    "a"
   ]
  },
  {
   "cell_type": "code",
   "execution_count": 12,
   "metadata": {},
   "outputs": [
    {
     "data": {
      "text/plain": [
       "['Today I got the order. The product was as shown in the advertisement. Swift, and fast delivery. Good quality. I am much satisfied with the seller and of course Daraz.',\n",
       " 'I received my parcel on time. The service is so fast. Must recomment. Will shop again... \\nThankx daraz app',\n",
       " 'koy bhe shaks in say handfree na ly many 3 handfree order ki thi likin mujhy aik receive hue wo b khrab kuch to Khuda ka khoof kry asy logo k 300 400 say ap ameer ni hujye gy kbr k azam say bchy many refund k lea daraz pay application day di ha or help line py b complain kerrha hu',\n",
       " 'I highly recommended for this product is very good quality sound quality is good\\nthanks for Daraz and thanks to Brain Zone Gadget',\n",
       " 'faradiye hain dhoka Kiya hai vivo ka likha kar viva bekar si product bejhi hai usi time  inbox main rabta Kiya koi jawab nai diya',\n",
       " '4.7/5\\n186 Ratings\\n165\\n3\\n6\\n1\\n11',\n",
       " 'recieved handsfree as shown in pics. good seller. the sound and quality of handsfree is so good.',\n",
       " 'Bohat achi handfree ha thanks draz bohat e km price h awaz b  bhhht achi ha ',\n",
       " 'Bht zabrdast mena 2nd time order kia ha bht achi quality ka handsfree hai or price b bht munasib ha sound quality b achi ha \\nThanks to Daraz Team ',\n",
       " \"I've got hand-free parsel received, it's great,quality is really original and so....😍good!I appreciate this seller and I will ordered again soon🥰🥰🥰\",\n",
       " '4.7/5\\n186 Ratings\\n165\\n3\\n6\\n1\\n11',\n",
       " 'i got my handfree in 2 days , its voice is awesome                                               ',\n",
       " 'Bohat achi handfree ha thanks draz bohat e km price h awaz b  bhhht achi ha ',\n",
       " 'Bht zabrdast mena 2nd time order kia ha bht achi quality ka handsfree hai or price b bht munasib ha sound quality b achi ha \\nThanks to Daraz Team ',\n",
       " \"I've got hand-free parsel received, it's great,quality is really original and so....😍good!I appreciate this seller and I will ordered again soon🥰🥰🥰\"]"
      ]
     },
     "execution_count": 12,
     "metadata": {},
     "output_type": "execute_result"
    }
   ],
   "source": [
    "for i in range(0,len(b)):\n",
    "    b[i]=b[i].replace('by', '')\n",
    "    b[i]=b[i].replace('.Verified Purchase', '')\n",
    "    b[i]=b[i].replace('Verified Purchase', '')\n",
    "\n",
    "del a[0]\n",
    "del a[6]\n",
    "del a[12]\n",
    "a"
   ]
  },
  {
   "cell_type": "code",
   "execution_count": 26,
   "metadata": {},
   "outputs": [
    {
     "data": {
      "text/html": [
       "<div>\n",
       "<style scoped>\n",
       "    .dataframe tbody tr th:only-of-type {\n",
       "        vertical-align: middle;\n",
       "    }\n",
       "\n",
       "    .dataframe tbody tr th {\n",
       "        vertical-align: top;\n",
       "    }\n",
       "\n",
       "    .dataframe thead th {\n",
       "        text-align: right;\n",
       "    }\n",
       "</style>\n",
       "<table border=\"1\" class=\"dataframe\">\n",
       "  <thead>\n",
       "    <tr style=\"text-align: right;\">\n",
       "      <th></th>\n",
       "      <th>Names</th>\n",
       "      <th>Reviews</th>\n",
       "    </tr>\n",
       "  </thead>\n",
       "  <tbody>\n",
       "    <tr>\n",
       "      <th>0</th>\n",
       "      <td>Tarique I</td>\n",
       "      <td>Today I got the order. The product was as show...</td>\n",
       "    </tr>\n",
       "    <tr>\n",
       "      <th>1</th>\n",
       "      <td>Ubaid S</td>\n",
       "      <td>I received my parcel on time. The service is s...</td>\n",
       "    </tr>\n",
       "    <tr>\n",
       "      <th>2</th>\n",
       "      <td>Usama B</td>\n",
       "      <td>koy bhe shaks in say handfree na ly many 3 han...</td>\n",
       "    </tr>\n",
       "    <tr>\n",
       "      <th>3</th>\n",
       "      <td>kais B</td>\n",
       "      <td>I highly recommended for this product is very ...</td>\n",
       "    </tr>\n",
       "    <tr>\n",
       "      <th>4</th>\n",
       "      <td>A***i</td>\n",
       "      <td>faradiye hain dhoka Kiya hai vivo ka likha kar...</td>\n",
       "    </tr>\n",
       "    <tr>\n",
       "      <th>5</th>\n",
       "      <td>Mubbashir I</td>\n",
       "      <td>4.7/5\\n186 Ratings\\n165\\n3\\n6\\n1\\n11</td>\n",
       "    </tr>\n",
       "    <tr>\n",
       "      <th>6</th>\n",
       "      <td>anwaar M</td>\n",
       "      <td>recieved handsfree as shown in pics. good sell...</td>\n",
       "    </tr>\n",
       "    <tr>\n",
       "      <th>7</th>\n",
       "      <td>Samjee</td>\n",
       "      <td>Bohat achi handfree ha thanks draz bohat e km ...</td>\n",
       "    </tr>\n",
       "    <tr>\n",
       "      <th>8</th>\n",
       "      <td>kais B</td>\n",
       "      <td>Bht zabrdast mena 2nd time order kia ha bht ac...</td>\n",
       "    </tr>\n",
       "    <tr>\n",
       "      <th>9</th>\n",
       "      <td>0***3</td>\n",
       "      <td>I've got hand-free parsel received, it's great...</td>\n",
       "    </tr>\n",
       "    <tr>\n",
       "      <th>10</th>\n",
       "      <td>Mubbashir I</td>\n",
       "      <td>4.7/5\\n186 Ratings\\n165\\n3\\n6\\n1\\n11</td>\n",
       "    </tr>\n",
       "    <tr>\n",
       "      <th>11</th>\n",
       "      <td>anwaar M</td>\n",
       "      <td>i got my handfree in 2 days , its voice is awe...</td>\n",
       "    </tr>\n",
       "    <tr>\n",
       "      <th>12</th>\n",
       "      <td>Samjee</td>\n",
       "      <td>Bohat achi handfree ha thanks draz bohat e km ...</td>\n",
       "    </tr>\n",
       "    <tr>\n",
       "      <th>13</th>\n",
       "      <td>kais B</td>\n",
       "      <td>Bht zabrdast mena 2nd time order kia ha bht ac...</td>\n",
       "    </tr>\n",
       "    <tr>\n",
       "      <th>14</th>\n",
       "      <td>0***3</td>\n",
       "      <td>I've got hand-free parsel received, it's great...</td>\n",
       "    </tr>\n",
       "  </tbody>\n",
       "</table>\n",
       "</div>"
      ],
      "text/plain": [
       "           Names                                            Reviews\n",
       "0      Tarique I  Today I got the order. The product was as show...\n",
       "1        Ubaid S  I received my parcel on time. The service is s...\n",
       "2        Usama B  koy bhe shaks in say handfree na ly many 3 han...\n",
       "3         kais B  I highly recommended for this product is very ...\n",
       "4          A***i  faradiye hain dhoka Kiya hai vivo ka likha kar...\n",
       "5    Mubbashir I               4.7/5\\n186 Ratings\\n165\\n3\\n6\\n1\\n11\n",
       "6       anwaar M  recieved handsfree as shown in pics. good sell...\n",
       "7         Samjee  Bohat achi handfree ha thanks draz bohat e km ...\n",
       "8         kais B  Bht zabrdast mena 2nd time order kia ha bht ac...\n",
       "9          0***3  I've got hand-free parsel received, it's great...\n",
       "10   Mubbashir I               4.7/5\\n186 Ratings\\n165\\n3\\n6\\n1\\n11\n",
       "11      anwaar M  i got my handfree in 2 days , its voice is awe...\n",
       "12        Samjee  Bohat achi handfree ha thanks draz bohat e km ...\n",
       "13        kais B  Bht zabrdast mena 2nd time order kia ha bht ac...\n",
       "14         0***3  I've got hand-free parsel received, it's great..."
      ]
     },
     "execution_count": 26,
     "metadata": {},
     "output_type": "execute_result"
    }
   ],
   "source": [
    "#Output\n",
    "import pandas as pd\n",
    "import numpy as np\n",
    "data={\n",
    "    \"Names\":b,\"Reviews\":a\n",
    "}\n",
    "df=pd.DataFrame(data)\n",
    "df"
   ]
  },
  {
   "attachments": {},
   "cell_type": "markdown",
   "metadata": {},
   "source": [
    "Clean the Reviews using NLTK,RE. Remove Punctuations, Smilies and other garbage using any library. \n",
    "\n",
    "Apply Vader Sentiment to find the sentiment of the review, and append it in a column named \"Sentiment\".\n",
    "\n",
    "You can get help of Vader sentiment from this; https://towardsdatascience.com/sentimental-analysis-using-vader-a3415fef7664"
   ]
  },
  {
   "cell_type": "code",
   "execution_count": 16,
   "metadata": {},
   "outputs": [
    {
     "data": {
      "text/plain": [
       "[{'neg': 0.0, 'neu': 0.769, 'pos': 0.231, 'compound': 0.7579},\n",
       " {'neg': 0.0, 'neu': 1.0, 'pos': 0.0, 'compound': 0.0},\n",
       " {'neg': 0.061, 'neu': 0.802, 'pos': 0.137, 'compound': 0.7003},\n",
       " {'neg': 0.0, 'neu': 0.543, 'pos': 0.457, 'compound': 0.9228},\n",
       " {'neg': 0.0, 'neu': 1.0, 'pos': 0.0, 'compound': 0.0},\n",
       " {'neg': 0.0, 'neu': 1.0, 'pos': 0.0, 'compound': 0.0},\n",
       " {'neg': 0.0, 'neu': 0.721, 'pos': 0.279, 'compound': 0.7003},\n",
       " {'neg': 0.0, 'neu': 0.565, 'pos': 0.435, 'compound': 0.7717},\n",
       " {'neg': 0.116, 'neu': 0.606, 'pos': 0.278, 'compound': 0.5994},\n",
       " {'neg': 0.0, 'neu': 0.763, 'pos': 0.237, 'compound': 0.6793},\n",
       " {'neg': 0.0, 'neu': 1.0, 'pos': 0.0, 'compound': 0.0},\n",
       " {'neg': 0.0, 'neu': 0.661, 'pos': 0.339, 'compound': 0.6249},\n",
       " {'neg': 0.0, 'neu': 0.565, 'pos': 0.435, 'compound': 0.7717},\n",
       " {'neg': 0.116, 'neu': 0.606, 'pos': 0.278, 'compound': 0.5994},\n",
       " {'neg': 0.0, 'neu': 0.763, 'pos': 0.237, 'compound': 0.6793}]"
      ]
     },
     "execution_count": 16,
     "metadata": {},
     "output_type": "execute_result"
    }
   ],
   "source": [
    "import nltk\n",
    "#nltk.download('vader_lexicon')\n",
    "from nltk.sentiment.vader import SentimentIntensityAnalyzer\n",
    "sent=[]\n",
    "sid = SentimentIntensityAnalyzer()\n",
    "for i in a:\n",
    "    sent.append(sid.polarity_scores(i))\n",
    "sent"
   ]
  },
  {
   "attachments": {},
   "cell_type": "markdown",
   "metadata": {},
   "source": [
    "Scrape 80 items for a keyword search e.g., 'mobile covers'<br/>Note: Must use \"click()\" function of webElement, URL changing for pages is not allowed. The code must be generic and should work for every keyword, with proper checks in place. Bonus for also scraping country and Daraz Mall availability."
   ]
  },
  {
   "cell_type": "code",
   "execution_count": 18,
   "metadata": {},
   "outputs": [
    {
     "name": "stdout",
     "output_type": "stream",
     "text": [
      "Enter search term: furniture\n",
      "Modified search term: furniture\n"
     ]
    }
   ],
   "source": [
    "query = 'mobile covers'\n",
    "url = 'form complete url from query given above by appending to actual url'\n",
    "ratings = [3, 4]\n",
    "pricing = [(300,500), (1000,1500)]\n",
    "\n",
    "query = input('Enter search term: ').replace(' ', '%20')\n",
    "print(f'Modified search term: {query}')"
   ]
  },
  {
   "cell_type": "code",
   "execution_count": 23,
   "metadata": {},
   "outputs": [
    {
     "name": "stderr",
     "output_type": "stream",
     "text": [
      "C:\\Users\\Faizan\\AppData\\Local\\Temp\\ipykernel_6208\\3803257622.py:4: DeprecationWarning: executable_path has been deprecated, please pass in a Service object\n",
      "  driver = webdriver.Chrome(executable_path=r\"C:\\Users\\Faizan\\OneDrive - FAST National University\\Documents\\intro_to_datascience_notebooks\\chromedriver.exe\")\n",
      "Exception ignored in: <function Service.__del__ at 0x000001C7489199D0>\n",
      "Traceback (most recent call last):\n",
      "  File \"C:\\Users\\Faizan\\anaconda3\\lib\\site-packages\\selenium\\webdriver\\common\\service.py\", line 170, in __del__\n",
      "  File \"C:\\Users\\Faizan\\anaconda3\\lib\\site-packages\\selenium\\webdriver\\common\\service.py\", line 145, in stop\n",
      "  File \"C:\\Users\\Faizan\\anaconda3\\lib\\site-packages\\selenium\\webdriver\\common\\service.py\", line 127, in send_remote_shutdown_command\n",
      "  File \"C:\\Users\\Faizan\\anaconda3\\lib\\site-packages\\selenium\\webdriver\\common\\service.py\", line 116, in is_connectable\n",
      "  File \"C:\\Users\\Faizan\\anaconda3\\lib\\site-packages\\selenium\\webdriver\\common\\utils.py\", line 107, in is_connectable\n",
      "  File \"C:\\Users\\Faizan\\anaconda3\\lib\\socket.py\", line 832, in create_connection\n",
      "KeyboardInterrupt: \n",
      "\n",
      "KeyboardInterrupt\n",
      "\n"
     ]
    }
   ],
   "source": [
    "#from selenium.webdriver.common.action_chains import ActionChains\n",
    "options = Options()\n",
    "# options.add_argument(\"--headless\")\n",
    "driver = webdriver.Chrome(executable_path=r\"C:\\Users\\Faizan\\OneDrive - FAST National University\\Documents\\intro_to_datascience_notebooks\\chromedriver.exe\")\n",
    "i=0\n",
    "\n",
    "names = []\n",
    "rating = []\n",
    "prce = []\n",
    "rev = []\n",
    "revw = []\n",
    "#for i in pricing:\n",
    "#for j in ratings:\n",
    "#&rating={j}\n",
    "#driver.get(f'https://www.daraz.pk/catalog/?from=input&q={query}')\n",
    "driver.get(f'https://www.daraz.pk/#')\n",
    "driver.maximize_window()\n",
    "time.sleep(5)\n",
    "driver.find_element(\"xpath\",'/html[1]/body[1]/div[1]/div[1]/div[1]/div[1]/div[1]/div[1]/div[2]/div[1]/div[2]/form[1]/div[1]/div[1]/input[1]').send_keys(query + Keys.RETURN)\n",
    "\n",
    "for i in range(1,2):\n",
    "    for product in driver.find_elements(By.CLASS_NAME,'gridItem--Yd0sa'):\n",
    "        \n",
    "            name = product.find_element(By.CLASS_NAME,'title--wFj93').text\n",
    "            names.append(name)\n",
    "            time.sleep(1)\n",
    "#             rat=int(product.find_elements(By.CLASS_NAME,'score-average')).text\n",
    "#             for k in rat:\n",
    "           \n",
    "#                 rating.append(k.text)\n",
    "            time.sleep(3) \n",
    "            try:\n",
    "        \n",
    "                price = int(product.find_element(By.CLASS_NAME,'price--NVB62').text[3:].replace(',',''))\n",
    "            except ValueError:\n",
    "                price = 0\n",
    "            prce.append(price)\n",
    "            \n",
    "#             try:\n",
    "        \n",
    "#                 rv = (product.find_element(By.CLASS_NAME,'count').text[3:].replace('Ratings',''))\n",
    "#             except ValueError:\n",
    "#                 rv = 0\n",
    "#             rev.append(rv.text)\n",
    "            #time.sleep(3)\n",
    "            #driver.find_element(By.XPATH,'/html[1]/body[1]/div[3]/div[1]/div[3]/div[1]/div[1]/div[1]/div[3]/div[1]/ul[1]/li[3]').click()\n",
    "driver.close()\n",
    "\n"
   ]
  },
  {
   "cell_type": "code",
   "execution_count": null,
   "metadata": {},
   "outputs": [],
   "source": [
    "data={\"Names\":names,\"Price\":prce}\n",
    "df=pd.DataFrame(data)\n",
    "df"
   ]
  },
  {
   "attachments": {},
   "cell_type": "markdown",
   "metadata": {},
   "source": [
    "#### Output\n",
    "df"
   ]
  },
  {
   "cell_type": "code",
   "execution_count": 3,
   "metadata": {},
   "outputs": [
    {
     "data": {
      "text/html": [
       "<div>\n",
       "<style scoped>\n",
       "    .dataframe tbody tr th:only-of-type {\n",
       "        vertical-align: middle;\n",
       "    }\n",
       "\n",
       "    .dataframe tbody tr th {\n",
       "        vertical-align: top;\n",
       "    }\n",
       "\n",
       "    .dataframe thead th {\n",
       "        text-align: right;\n",
       "    }\n",
       "</style>\n",
       "<table border=\"1\" class=\"dataframe\">\n",
       "  <thead>\n",
       "    <tr style=\"text-align: right;\">\n",
       "      <th></th>\n",
       "      <th>Store Name</th>\n",
       "      <th>Daraz Mall/Private</th>\n",
       "      <th>Avg Price</th>\n",
       "      <th>Listings</th>\n",
       "      <th>Avg unit selling</th>\n",
       "      <th>Seller Ratings</th>\n",
       "      <th>Country</th>\n",
       "      <th>Followers</th>\n",
       "    </tr>\n",
       "  </thead>\n",
       "  <tbody>\n",
       "    <tr>\n",
       "      <th>0</th>\n",
       "      <td>Hontinga</td>\n",
       "      <td>Daraz Mall</td>\n",
       "      <td>565</td>\n",
       "      <td>187414</td>\n",
       "      <td>110</td>\n",
       "      <td>93</td>\n",
       "      <td>Overseas</td>\n",
       "      <td>29919</td>\n",
       "    </tr>\n",
       "    <tr>\n",
       "      <th>1</th>\n",
       "      <td>ABC MOBILE ACCESSORIES STORE ( FAISALABAD )</td>\n",
       "      <td>Private</td>\n",
       "      <td>95</td>\n",
       "      <td>438</td>\n",
       "      <td>29</td>\n",
       "      <td>93</td>\n",
       "      <td>Pakistan</td>\n",
       "      <td>11969</td>\n",
       "    </tr>\n",
       "  </tbody>\n",
       "</table>\n",
       "</div>"
      ],
      "text/plain": [
       "                                    Store Name Daraz Mall/Private  Avg Price  \\\n",
       "0                                     Hontinga         Daraz Mall        565   \n",
       "1  ABC MOBILE ACCESSORIES STORE ( FAISALABAD )            Private         95   \n",
       "\n",
       "   Listings  Avg unit selling  Seller Ratings   Country  Followers  \n",
       "0    187414               110              93  Overseas      29919  \n",
       "1       438                29              93  Pakistan      11969  "
      ]
     },
     "execution_count": 3,
     "metadata": {},
     "output_type": "execute_result"
    }
   ],
   "source": [
    "#Run this cell to see the sample output\n",
    "import pandas as pd\n",
    "pd.read_csv('output.csv')"
   ]
  },
  {
   "cell_type": "code",
   "execution_count": 31,
   "metadata": {},
   "outputs": [
    {
     "data": {
      "text/plain": [
       "['Galaxy Sofa Cum Bed Imported Jute Fabric Grey Colour Armless Compact Living Spaces, Dorms, Guest Rooms, Apartments, Offices,',\n",
       " 'Galaxy 4 Seater Puffy Sets Fabric Blue Valvid (Size 2 unit single seat 22x22 inches and 1 unit large 2 seater 44x22 complete set height 17 inches)',\n",
       " 'Galaxy Gloria Sofa Cum Bed Imported Velvet Fabric, Diamond Supreme Foam 12 Years warranty with Arms Compact Living Spaces, Dorms, Guest Rooms, Apartments, Offices,',\n",
       " 'Interwood FRESCO BED - KING (TEAK & WHITE) - Secure delivery + Free Installation',\n",
       " 'Galaxy Bed with Poshish /Wrought Iron Bed/Double bed/King Size',\n",
       " 'Compact Dining Table Set Dt001 - 48X30X30\" - Beech',\n",
       " 'Habitt - Novak Bed with 2 attached drawers - King Sized Black Laminated Bed - (KHI-LHR-ISB Delivery Only)']"
      ]
     },
     "execution_count": 31,
     "metadata": {},
     "output_type": "execute_result"
    }
   ],
   "source": []
  },
  {
   "cell_type": "code",
   "execution_count": 29,
   "metadata": {},
   "outputs": [
    {
     "data": {
      "text/plain": [
       "6"
      ]
     },
     "execution_count": 29,
     "metadata": {},
     "output_type": "execute_result"
    }
   ],
   "source": []
  },
  {
   "cell_type": "code",
   "execution_count": null,
   "metadata": {},
   "outputs": [],
   "source": []
  }
 ],
 "metadata": {
  "kernelspec": {
   "display_name": "Python 3 (ipykernel)",
   "language": "python",
   "name": "python3"
  },
  "language_info": {
   "codemirror_mode": {
    "name": "ipython",
    "version": 3
   },
   "file_extension": ".py",
   "mimetype": "text/x-python",
   "name": "python",
   "nbconvert_exporter": "python",
   "pygments_lexer": "ipython3",
   "version": "3.9.12"
  }
 },
 "nbformat": 4,
 "nbformat_minor": 2
}
